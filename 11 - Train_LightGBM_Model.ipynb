{
 "cells": [
  {
   "cell_type": "code",
   "execution_count": 1,
   "id": "f250d0ef",
   "metadata": {},
   "outputs": [],
   "source": [
    "# ----------------------------\n",
    "# 1. Importar librerías\n",
    "# ----------------------------\n",
    "import pandas as pd\n",
    "import numpy as np\n",
    "import lightgbm as lgb\n",
    "import matplotlib.pyplot as plt\n",
    "from sklearn.model_selection import train_test_split\n",
    "from sklearn.metrics import mean_squared_error\n"
   ]
  },
  {
   "cell_type": "code",
   "execution_count": 11,
   "id": "4f4d75a8",
   "metadata": {},
   "outputs": [
    {
     "name": "stdout",
     "output_type": "stream",
     "text": [
      "Collecting openpyxl\n",
      "  Using cached openpyxl-3.1.5-py2.py3-none-any.whl.metadata (2.5 kB)\n",
      "Collecting et-xmlfile (from openpyxl)\n",
      "  Downloading et_xmlfile-2.0.0-py3-none-any.whl.metadata (2.7 kB)\n",
      "Using cached openpyxl-3.1.5-py2.py3-none-any.whl (250 kB)\n",
      "Downloading et_xmlfile-2.0.0-py3-none-any.whl (18 kB)\n",
      "Installing collected packages: et-xmlfile, openpyxl\n",
      "\n",
      "   -------------------- ------------------- 1/2 [openpyxl]\n",
      "   -------------------- ------------------- 1/2 [openpyxl]\n",
      "   -------------------- ------------------- 1/2 [openpyxl]\n",
      "   -------------------- ------------------- 1/2 [openpyxl]\n",
      "   -------------------- ------------------- 1/2 [openpyxl]\n",
      "   -------------------- ------------------- 1/2 [openpyxl]\n",
      "   -------------------- ------------------- 1/2 [openpyxl]\n",
      "   -------------------- ------------------- 1/2 [openpyxl]\n",
      "   -------------------- ------------------- 1/2 [openpyxl]\n",
      "   -------------------- ------------------- 1/2 [openpyxl]\n",
      "   -------------------- ------------------- 1/2 [openpyxl]\n",
      "   -------------------- ------------------- 1/2 [openpyxl]\n",
      "   -------------------- ------------------- 1/2 [openpyxl]\n",
      "   -------------------- ------------------- 1/2 [openpyxl]\n",
      "   -------------------- ------------------- 1/2 [openpyxl]\n",
      "   -------------------- ------------------- 1/2 [openpyxl]\n",
      "   -------------------- ------------------- 1/2 [openpyxl]\n",
      "   -------------------- ------------------- 1/2 [openpyxl]\n",
      "   ---------------------------------------- 2/2 [openpyxl]\n",
      "\n",
      "Successfully installed et-xmlfile-2.0.0 openpyxl-3.1.5\n",
      "Note: you may need to restart the kernel to use updated packages.\n"
     ]
    }
   ],
   "source": [
    "pip install openpyxl\n"
   ]
  },
  {
   "cell_type": "code",
   "execution_count": 12,
   "id": "60b9e390",
   "metadata": {},
   "outputs": [],
   "source": [
    "import openpyxl"
   ]
  },
  {
   "cell_type": "code",
   "execution_count": 24,
   "id": "98e2fd3f",
   "metadata": {},
   "outputs": [],
   "source": [
    "# ----------------------------\n",
    "# 2. Cargar archivos\n",
    "# ----------------------------\n",
    "# tb_productos\n",
    "tb_productos = pd.read_excel('C:/Users/juans/Documents/MCD/1-materias/laboratorio III/TP_final/data/tb_productos.xlsx')\n",
    "\n",
    "# tb_stock\n",
    "tb_stock = pd.read_excel(\"C:/Users/juans/Documents/MCD/1-materias/laboratorio III/TP_final/data/tb_stock.xlsx\")\n",
    "\n",
    "# product_id_apredecir201912\n",
    "productos_apredecir = pd.read_excel(\"C:/Users/juans/Documents/MCD/1-materias/laboratorio III/TP_final/data/product_id_apredecir201912.xlsx\")\n",
    "\n",
    "# sell-in.txt en chunks\n",
    "chunksize = 10 ** 6\n",
    "sell_in_chunks = pd.read_csv(\"C:/Users/juans/Documents/MCD/1-materias/laboratorio III/TP_final/data/sell-in.txt\", delimiter='\\t', chunksize=chunksize)\n",
    "\n",
    "# Procesar sell-in por chunks y filtrar columnas necesarias\n",
    "sell_in_list = []\n",
    "for chunk in sell_in_chunks:\n",
    "    df_chunk = chunk\n",
    "    # df_chunk = chunk[['periodo', 'product_id', 'tn']]\n",
    "    sell_in_list.append(df_chunk)\n",
    "\n",
    "sell_in = pd.concat(sell_in_list)\n"
   ]
  },
  {
   "cell_type": "code",
   "execution_count": 25,
   "id": "98eca94c",
   "metadata": {},
   "outputs": [],
   "source": [
    "\n",
    "# ----------------------------\n",
    "# 3. Generar features de lags y target\n",
    "# ----------------------------\n",
    "# Agrupar ventas por periodo y producto\n",
    "ventas_agg = sell_in.groupby(['periodo', 'product_id'], as_index=False)['tn'].sum()\n",
    "ventas_agg = ventas_agg.sort_values(['product_id', 'periodo'])\n",
    "\n",
    "# Crear lags t-1, t-2, t-3\n",
    "ventas_agg['lag_tn_1'] = ventas_agg.groupby('product_id')['tn'].shift(1)\n",
    "ventas_agg['lag_tn_2'] = ventas_agg.groupby('product_id')['tn'].shift(2)\n",
    "ventas_agg['lag_tn_3'] = ventas_agg.groupby('product_id')['tn'].shift(3)\n",
    "\n",
    "# Crear target mes +2\n",
    "ventas_agg['target_tn_mes_plus2'] = ventas_agg.groupby('product_id')['tn'].shift(-2)\n"
   ]
  },
  {
   "cell_type": "code",
   "execution_count": 26,
   "id": "cf161e84",
   "metadata": {},
   "outputs": [],
   "source": [
    "\n",
    "# ----------------------------\n",
    "# 4. Merge con stock y atributos\n",
    "# ----------------------------\n",
    "dataset = pd.merge(ventas_agg, tb_stock, how='left', on=['periodo', 'product_id'])\n",
    "dataset = pd.merge(dataset, tb_productos, how='left', on='product_id')\n"
   ]
  },
  {
   "cell_type": "code",
   "execution_count": 27,
   "id": "86bc64e9",
   "metadata": {},
   "outputs": [],
   "source": [
    "\n",
    "# ----------------------------\n",
    "# 5. Limpiar dataset\n",
    "# ----------------------------\n",
    "# Reemplazo de NaN en lags y stock_final\n",
    "dataset[['lag_tn_1', 'lag_tn_2', 'lag_tn_3']] = dataset[['lag_tn_1', 'lag_tn_2', 'lag_tn_3']].fillna(0)\n",
    "dataset['stock_final'] = dataset['stock_final'].fillna(0)\n"
   ]
  },
  {
   "cell_type": "code",
   "execution_count": 28,
   "id": "ed26e6a5",
   "metadata": {},
   "outputs": [],
   "source": [
    "\n",
    "# Reemplazo NaN en atributos\n",
    "for col in ['cat1', 'cat2', 'cat3', 'brand']:\n",
    "    dataset[col] = dataset[col].fillna('Unknown')\n",
    "dataset['sku_size'] = dataset['sku_size'].fillna(dataset['sku_size'].median())\n",
    "\n",
    "# Eliminar filas sin target (para entrenamiento)\n",
    "dataset_train = dataset.dropna(subset=['target_tn_mes_plus2'])\n"
   ]
  },
  {
   "cell_type": "code",
   "execution_count": 29,
   "id": "2c9551d2",
   "metadata": {},
   "outputs": [],
   "source": [
    "# ----------------------------\n",
    "# 6. Preparar X e y\n",
    "# ----------------------------\n",
    "X = dataset_train.drop(columns=['target_tn_mes_plus2', 'periodo', 'product_id', 'tn'])\n",
    "y = dataset_train['target_tn_mes_plus2']\n",
    "\n",
    "# Convertir variables categóricas a category\n",
    "to_category = ['cat1', 'cat2', 'cat3', 'brand']\n",
    "for col in to_category:\n",
    "    X[col] = X[col].astype('category')\n"
   ]
  },
  {
   "cell_type": "code",
   "execution_count": 30,
   "id": "17628052",
   "metadata": {},
   "outputs": [
    {
     "name": "stdout",
     "output_type": "stream",
     "text": [
      "Training until validation scores don't improve for 50 rounds\n",
      "Early stopping, best iteration is:\n",
      "[333]\ttraining's rmse: 34.1524\tvalid_1's rmse: 6.36333\n"
     ]
    }
   ],
   "source": [
    "# ----------------------------\n",
    "# 7. Entrenamiento LightGBM\n",
    "# ----------------------------\n",
    "X_train, X_test, y_train, y_test = train_test_split(X, y, test_size=0.2, shuffle=False)\n",
    "\n",
    "train_data = lgb.Dataset(X_train, label=y_train)\n",
    "test_data = lgb.Dataset(X_test, label=y_test, reference=train_data)\n",
    "\n",
    "params = {\n",
    "    'objective': 'regression',\n",
    "    'metric': 'rmse',\n",
    "    'boosting_type': 'gbdt',\n",
    "    'learning_rate': 0.05,\n",
    "    'num_leaves': 31,\n",
    "    'verbose': -1\n",
    "}\n",
    "\n",
    "model = lgb.train(\n",
    "    params,\n",
    "    train_data,\n",
    "    valid_sets=[train_data, test_data],\n",
    "    num_boost_round=1000,\n",
    "    callbacks=[lgb.early_stopping(stopping_rounds=50)]\n",
    ")\n"
   ]
  },
  {
   "cell_type": "code",
   "execution_count": 31,
   "id": "475734f8",
   "metadata": {},
   "outputs": [
    {
     "data": {
      "image/png": "[encoded data removed]",
      "text/plain": [
       "<Figure size 640x480 with 1 Axes>"
      ]
     },
     "metadata": {},
     "output_type": "display_data"
    }
   ],
   "source": [
    "# ----------------------------\n",
    "# 8. Importancia de variables\n",
    "# ----------------------------\n",
    "lgb.plot_importance(model, max_num_features=20)\n",
    "plt.show()\n"
   ]
  },
  {
   "cell_type": "code",
   "execution_count": 32,
   "id": "19423c4e",
   "metadata": {},
   "outputs": [
    {
     "name": "stderr",
     "output_type": "stream",
     "text": [
      "C:\\Users\\juans\\AppData\\Local\\Temp\\ipykernel_21344\\461970376.py:13: SettingWithCopyWarning: \n",
      "A value is trying to be set on a copy of a slice from a DataFrame.\n",
      "Try using .loc[row_indexer,col_indexer] = value instead\n",
      "\n",
      "See the caveats in the documentation: https://pandas.pydata.org/pandas-docs/stable/user_guide/indexing.html#returning-a-view-versus-a-copy\n",
      "  X_pred[col] = X_pred[col].astype('category')\n",
      "C:\\Users\\juans\\AppData\\Local\\Temp\\ipykernel_21344\\461970376.py:13: SettingWithCopyWarning: \n",
      "A value is trying to be set on a copy of a slice from a DataFrame.\n",
      "Try using .loc[row_indexer,col_indexer] = value instead\n",
      "\n",
      "See the caveats in the documentation: https://pandas.pydata.org/pandas-docs/stable/user_guide/indexing.html#returning-a-view-versus-a-copy\n",
      "  X_pred[col] = X_pred[col].astype('category')\n",
      "C:\\Users\\juans\\AppData\\Local\\Temp\\ipykernel_21344\\461970376.py:13: SettingWithCopyWarning: \n",
      "A value is trying to be set on a copy of a slice from a DataFrame.\n",
      "Try using .loc[row_indexer,col_indexer] = value instead\n",
      "\n",
      "See the caveats in the documentation: https://pandas.pydata.org/pandas-docs/stable/user_guide/indexing.html#returning-a-view-versus-a-copy\n",
      "  X_pred[col] = X_pred[col].astype('category')\n",
      "C:\\Users\\juans\\AppData\\Local\\Temp\\ipykernel_21344\\461970376.py:13: SettingWithCopyWarning: \n",
      "A value is trying to be set on a copy of a slice from a DataFrame.\n",
      "Try using .loc[row_indexer,col_indexer] = value instead\n",
      "\n",
      "See the caveats in the documentation: https://pandas.pydata.org/pandas-docs/stable/user_guide/indexing.html#returning-a-view-versus-a-copy\n",
      "  X_pred[col] = X_pred[col].astype('category')\n"
     ]
    }
   ],
   "source": [
    "# ----------------------------\n",
    "# 9. Preparar features para predicción mes +2 (202002)\n",
    "# ----------------------------\n",
    "# Filtrar dataset para periodo 201912 y los productos a predecir\n",
    "pred_df = dataset[dataset['periodo'] == 201912]\n",
    "pred_df = pred_df[pred_df['product_id'].isin(productos_apredecir['product_id'])]\n",
    "\n",
    "# Seleccionar X_pred con las mismas columnas de X_train\n",
    "X_pred = pred_df[X.columns]\n",
    "\n",
    "# Convertir variables categóricas a category\n",
    "for col in to_category:\n",
    "    X_pred[col] = X_pred[col].astype('category')\n",
    "\n"
   ]
  },
  {
   "cell_type": "code",
   "execution_count": 34,
   "id": "e856a532",
   "metadata": {},
   "outputs": [
    {
     "name": "stdout",
     "output_type": "stream",
     "text": [
      "✅ Archivo submission_kaggle.csv generado con 780 filas.\n"
     ]
    }
   ],
   "source": [
    "# ----------------------------\n",
    "# 10. Generar predicciones y exportar submission\n",
    "# ----------------------------\n",
    "y_pred = model.predict(X_pred, num_iteration=model.best_iteration)\n",
    "\n",
    "submission = pd.DataFrame({\n",
    "    'product_id': pred_df['product_id'].values,\n",
    "    'tn': y_pred\n",
    "})\n",
    "\n",
    "# Agrupar para asegurar 1 fila por producto\n",
    "submission = submission.groupby('product_id', as_index=False)['tn'].sum()\n",
    "\n",
    "# Guardar como CSV\n",
    "submission.to_csv('submission_kaggle.csv', index=False)\n",
    "print(\"✅ Archivo submission_kaggle.csv generado con\", submission.shape[0], \"filas.\")\n",
    "\n"
   ]
  }
 ],
 "metadata": {
  "kernelspec": {
   "display_name": "Python 3",
   "language": "python",
   "name": "python3"
  },
  "language_info": {
   "codemirror_mode": {
    "name": "ipython",
    "version": 3
   },
   "file_extension": ".py",
   "mimetype": "text/x-python",
   "name": "python",
   "nbconvert_exporter": "python",
   "pygments_lexer": "ipython3",
   "version": "3.13.5"
  }
 },
 "nbformat": 4,
 "nbformat_minor": 5
}
